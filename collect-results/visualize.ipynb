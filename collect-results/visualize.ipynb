{
 "cells": [
  {
   "cell_type": "code",
   "execution_count": 13,
   "metadata": {},
   "outputs": [],
   "source": [
    "from visualization import plot_util as pu"
   ]
  },
  {
   "cell_type": "markdown",
   "metadata": {},
   "source": [
    "If you want to average results for multiple seeds, LOG_DIRS must contain subfolders in the following format: ```<name_exp0>-0```, ```<name_exp0>-1```, ```<name_exp1>-0```, ```<name_exp1>-1```. Where names correspond to experiments you want to compare separated with random seeds by dash."
   ]
  },
  {
   "cell_type": "code",
   "execution_count": 14,
   "metadata": {},
   "outputs": [],
   "source": [
    "# LOG_DIRS = 'logs/halfcheetah'\n",
    "# Uncomment below to see the effect of the timit limits flag\n",
    "\n",
    "\n",
    "# FNN (warehouse)\n",
    "LOG_DIRS = 'results-taylan/ware/fnn/results/1_8' # FNN result 8 cores VIR\n",
    "# LOG_DIRS = 'ware/fnn/results/2' # FNN result 1 core VIR\n",
    "\n",
    "# CNN (pong)\n",
    "# LOG_DIRS = 'results-taylan/pong/cnn/results/2' # CNN result 8 cores TAY\n",
    "\n",
    "# FNN + RNN (warehouse, series)\n",
    "# LOG_DIRS = 'ware/fnn/results/1' # FNN result 8 cores VIR\n",
    "# LOG_DIRS = 'ware/fnn/results/2' # FNN result 1 core VIR\n",
    "\n",
    "# FNN + RNN (warehouse, parallel)\n",
    "# LOG_DIRS = 'results-taylan/ware/fnnrnnp/results/1' # FNN result 8 cores TAY\n",
    "# LOG_DIRS = 'results-taylan/ware/fnnrnnp/results/2' # FNN result 1 core TAY\n",
    "\n",
    "# CNN + RNN (pong, series)\n",
    "# LOG_DIRS = 'results-kevin/pong/CNNRNN/results/1' # CNN + RNN Series result 8\n",
    "# cores KEV\n",
    "\n",
    "# CNN + RNN (pong, parallel)\n",
    "# LOG_DIRS = 'results-taylan/pong/cnn/results/1' # CNN + RNN Parallel result 8\n",
    "# cores\n",
    "# TAY\n",
    "\n",
    "# GROUPED UP\n",
    "# LOG_DIRS = 'together/pong'"
   ]
  },
  {
   "cell_type": "code",
   "execution_count": 15,
   "metadata": {},
   "outputs": [
    {
     "name": "stderr",
     "output_type": "stream",
     "text": [
      "C:\\Users\\Kevin Bislip\\Desktop\\DL\\DL PPO2\\CS4240_Deep_Learning_Project\\collect-results\\visualization\\monitor.py:162: UserWarning: Pandas doesn't allow columns to be created via a new attribute name - see https://pandas.pydata.org/pandas-docs/stable/indexing.html#attribute-access\n",
      "  df.headers = headers # HACK to preserve backwards compatibility\n"
     ]
    }
   ],
   "source": [
    "results = pu.load_results(LOG_DIRS)"
   ]
  },
  {
   "cell_type": "code",
   "execution_count": 16,
   "metadata": {},
   "outputs": [
    {
     "data": {
      "text/plain": "<Figure size 432x432 with 1 Axes>",
      "image/png": "[encoded data removed]"
     },
     "metadata": {
      "needs_background": "light"
     },
     "output_type": "display_data"
    }
   ],
   "source": [
    "# xy_fn=default_xy_fn,\n",
    "#     split_fn=default_split_fn,\n",
    "#     group_fn=default_split_fn,\n",
    "#     average_group=False,\n",
    "#     shaded_std=True,\n",
    "#     shaded_err=True,\n",
    "#     figsize=None,\n",
    "#     legend_outside=False,\n",
    "#     resample=0,\n",
    "#     smooth_step=1.0,\n",
    "#     tiling='vertical',\n",
    "#     xlabel=None,\n",
    "#     ylabel=None\n",
    "fig = pu.plot_results(results, average_group=True,\n",
    "                      split_fn=lambda _:\n",
    "'',\n",
    "                      shaded_std=True,shaded_err=True,\n",
    "                      legend_outside=False, xlabel='Steps',\n",
    "                      ylabel='Average'\n",
    "                                                                     ' Return')"
   ]
  },
  {
   "cell_type": "code",
   "execution_count": 16,
   "metadata": {},
   "outputs": [],
   "source": []
  }
 ],
 "metadata": {
  "kernelspec": {
   "display_name": "Python 3",
   "language": "python",
   "name": "python3"
  },
  "language_info": {
   "codemirror_mode": {
    "name": "ipython",
    "version": 3
   },
   "file_extension": ".py",
   "mimetype": "text/x-python",
   "name": "python",
   "nbconvert_exporter": "python",
   "pygments_lexer": "ipython3",
   "version": "3.6.8"
  }
 },
 "nbformat": 4,
 "nbformat_minor": 2
}